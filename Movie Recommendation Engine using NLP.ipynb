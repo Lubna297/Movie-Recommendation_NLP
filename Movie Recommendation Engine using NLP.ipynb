{
 "cells": [
  {
   "cell_type": "markdown",
   "id": "707e3a4b",
   "metadata": {},
   "source": [
    "## MOVIE RECOMMENDATION ENGINE using NLP"
   ]
  },
  {
   "cell_type": "markdown",
   "id": "41fdf2d9",
   "metadata": {},
   "source": [
    "## Introduction\n",
    "\n",
    "we will develop a Content-Based Movie Recommendation System with the IMDB  top 250 English Movies dataset.\n",
    "\n",
    "Here we will be covering the following:\n",
    "\n",
    "1. Importing the Libraries/Dependencies and Loading the Data\n",
    "\n",
    "2. Text Preprocessing with NLP\n",
    "\n",
    "3. Generating Word Representations using Bag Of Words\n",
    "\n",
    "4. Vectorizing Words and Creating the Similarity Matrix\n",
    "\n",
    "5. Training and Testing Our Recommendation Engine"
   ]
  },
  {
   "cell_type": "code",
   "execution_count": 2,
   "id": "1201cec3",
   "metadata": {},
   "outputs": [
    {
     "name": "stdout",
     "output_type": "stream",
     "text": [
      "Collecting rake-nltk\n",
      "  Downloading rake_nltk-1.0.6-py3-none-any.whl (9.1 kB)\n",
      "Collecting nltk<4.0.0,>=3.6.2\n",
      "  Downloading nltk-3.7-py3-none-any.whl (1.5 MB)\n",
      "Collecting regex>=2021.8.3\n",
      "  Downloading regex-2022.7.9-cp38-cp38-win_amd64.whl (262 kB)\n",
      "Requirement already satisfied: click in c:\\users\\joshm\\anaconda3\\lib\\site-packages (from nltk<4.0.0,>=3.6.2->rake-nltk) (7.1.2)\n",
      "Requirement already satisfied: joblib in c:\\users\\joshm\\anaconda3\\lib\\site-packages (from nltk<4.0.0,>=3.6.2->rake-nltk) (1.0.1)\n",
      "Requirement already satisfied: tqdm in c:\\users\\joshm\\anaconda3\\lib\\site-packages (from nltk<4.0.0,>=3.6.2->rake-nltk) (4.59.0)\n",
      "Installing collected packages: regex, nltk, rake-nltk\n",
      "  Attempting uninstall: regex\n",
      "    Found existing installation: regex 2021.4.4\n",
      "    Uninstalling regex-2021.4.4:\n",
      "      Successfully uninstalled regex-2021.4.4\n",
      "Note: you may need to restart the kernel to use updated packages.\n",
      "  Attempting uninstall: nltk\n",
      "    Found existing installation: nltk 3.6.1\n",
      "    Uninstalling nltk-3.6.1:\n",
      "      Successfully uninstalled nltk-3.6.1\n",
      "Successfully installed nltk-3.7 rake-nltk-1.0.6 regex-2022.7.9\n"
     ]
    }
   ],
   "source": [
    "pip install rake-nltk"
   ]
  },
  {
   "cell_type": "markdown",
   "id": "729034ba",
   "metadata": {},
   "source": [
    "### Importing the Libraries/Dependencies and Loading the Data"
   ]
  },
  {
   "cell_type": "code",
   "execution_count": 3,
   "id": "986abe2e",
   "metadata": {},
   "outputs": [],
   "source": [
    "#Import the required libraries/dependencies\n",
    "#ignore warnings\n",
    "import warnings\n",
    "warnings.simplefilter(action='ignore', category=FutureWarning)\n",
    "warnings.simplefilter(action='ignore', category=DeprecationWarning)\n",
    "#imports\n",
    "import pandas as pd\n",
    "import numpy as np\n",
    "from rake_nltk import Rake\n",
    "from sklearn.metrics.pairwise import cosine_similarity\n",
    "from sklearn.feature_extraction.text import CountVectorizer"
   ]
  },
  {
   "cell_type": "code",
   "execution_count": 4,
   "id": "dfed625c",
   "metadata": {},
   "outputs": [
    {
     "data": {
      "text/html": [
       "<div>\n",
       "<style scoped>\n",
       "    .dataframe tbody tr th:only-of-type {\n",
       "        vertical-align: middle;\n",
       "    }\n",
       "\n",
       "    .dataframe tbody tr th {\n",
       "        vertical-align: top;\n",
       "    }\n",
       "\n",
       "    .dataframe thead th {\n",
       "        text-align: right;\n",
       "    }\n",
       "</style>\n",
       "<table border=\"1\" class=\"dataframe\">\n",
       "  <thead>\n",
       "    <tr style=\"text-align: right;\">\n",
       "      <th></th>\n",
       "      <th>Unnamed: 0</th>\n",
       "      <th>Title</th>\n",
       "      <th>Year</th>\n",
       "      <th>Rated</th>\n",
       "      <th>Released</th>\n",
       "      <th>Runtime</th>\n",
       "      <th>Genre</th>\n",
       "      <th>Director</th>\n",
       "      <th>Writer</th>\n",
       "      <th>Actors</th>\n",
       "      <th>...</th>\n",
       "      <th>tomatoConsensus</th>\n",
       "      <th>tomatoUserMeter</th>\n",
       "      <th>tomatoUserRating</th>\n",
       "      <th>tomatoUserReviews</th>\n",
       "      <th>tomatoURL</th>\n",
       "      <th>DVD</th>\n",
       "      <th>BoxOffice</th>\n",
       "      <th>Production</th>\n",
       "      <th>Website</th>\n",
       "      <th>Response</th>\n",
       "    </tr>\n",
       "  </thead>\n",
       "  <tbody>\n",
       "    <tr>\n",
       "      <th>0</th>\n",
       "      <td>1</td>\n",
       "      <td>The Shawshank Redemption</td>\n",
       "      <td>1994</td>\n",
       "      <td>R</td>\n",
       "      <td>14 Oct 1994</td>\n",
       "      <td>142 min</td>\n",
       "      <td>Crime, Drama</td>\n",
       "      <td>Frank Darabont</td>\n",
       "      <td>Stephen King (short story \"Rita Hayworth and S...</td>\n",
       "      <td>Tim Robbins, Morgan Freeman, Bob Gunton, Willi...</td>\n",
       "      <td>...</td>\n",
       "      <td>NaN</td>\n",
       "      <td>NaN</td>\n",
       "      <td>NaN</td>\n",
       "      <td>NaN</td>\n",
       "      <td>http://www.rottentomatoes.com/m/shawshank_rede...</td>\n",
       "      <td>27 Jan 1998</td>\n",
       "      <td>NaN</td>\n",
       "      <td>Columbia Pictures</td>\n",
       "      <td>NaN</td>\n",
       "      <td>True</td>\n",
       "    </tr>\n",
       "    <tr>\n",
       "      <th>1</th>\n",
       "      <td>2</td>\n",
       "      <td>The Godfather</td>\n",
       "      <td>1972</td>\n",
       "      <td>R</td>\n",
       "      <td>24 Mar 1972</td>\n",
       "      <td>175 min</td>\n",
       "      <td>Crime, Drama</td>\n",
       "      <td>Francis Ford Coppola</td>\n",
       "      <td>Mario Puzo (screenplay), Francis Ford Coppola ...</td>\n",
       "      <td>Marlon Brando, Al Pacino, James Caan, Richard ...</td>\n",
       "      <td>...</td>\n",
       "      <td>NaN</td>\n",
       "      <td>NaN</td>\n",
       "      <td>NaN</td>\n",
       "      <td>NaN</td>\n",
       "      <td>http://www.rottentomatoes.com/m/godfather/</td>\n",
       "      <td>09 Oct 2001</td>\n",
       "      <td>NaN</td>\n",
       "      <td>Paramount Pictures</td>\n",
       "      <td>http://www.thegodfather.com</td>\n",
       "      <td>True</td>\n",
       "    </tr>\n",
       "    <tr>\n",
       "      <th>2</th>\n",
       "      <td>3</td>\n",
       "      <td>The Godfather: Part II</td>\n",
       "      <td>1974</td>\n",
       "      <td>R</td>\n",
       "      <td>20 Dec 1974</td>\n",
       "      <td>202 min</td>\n",
       "      <td>Crime, Drama</td>\n",
       "      <td>Francis Ford Coppola</td>\n",
       "      <td>Francis Ford Coppola (screenplay), Mario Puzo ...</td>\n",
       "      <td>Al Pacino, Robert Duvall, Diane Keaton, Robert...</td>\n",
       "      <td>...</td>\n",
       "      <td>NaN</td>\n",
       "      <td>NaN</td>\n",
       "      <td>NaN</td>\n",
       "      <td>NaN</td>\n",
       "      <td>http://www.rottentomatoes.com/m/godfather_part...</td>\n",
       "      <td>24 May 2005</td>\n",
       "      <td>NaN</td>\n",
       "      <td>Paramount Pictures</td>\n",
       "      <td>http://www.thegodfather.com/</td>\n",
       "      <td>True</td>\n",
       "    </tr>\n",
       "    <tr>\n",
       "      <th>3</th>\n",
       "      <td>4</td>\n",
       "      <td>The Dark Knight</td>\n",
       "      <td>2008</td>\n",
       "      <td>PG-13</td>\n",
       "      <td>18 Jul 2008</td>\n",
       "      <td>152 min</td>\n",
       "      <td>Action, Crime, Drama</td>\n",
       "      <td>Christopher Nolan</td>\n",
       "      <td>Jonathan Nolan (screenplay), Christopher Nolan...</td>\n",
       "      <td>Christian Bale, Heath Ledger, Aaron Eckhart, M...</td>\n",
       "      <td>...</td>\n",
       "      <td>NaN</td>\n",
       "      <td>NaN</td>\n",
       "      <td>NaN</td>\n",
       "      <td>NaN</td>\n",
       "      <td>http://www.rottentomatoes.com/m/the_dark_knight/</td>\n",
       "      <td>09 Dec 2008</td>\n",
       "      <td>$533,316,061</td>\n",
       "      <td>Warner Bros. Pictures/Legendary</td>\n",
       "      <td>http://thedarkknight.warnerbros.com/</td>\n",
       "      <td>True</td>\n",
       "    </tr>\n",
       "    <tr>\n",
       "      <th>4</th>\n",
       "      <td>5</td>\n",
       "      <td>12 Angry Men</td>\n",
       "      <td>1957</td>\n",
       "      <td>APPROVED</td>\n",
       "      <td>01 Apr 1957</td>\n",
       "      <td>96 min</td>\n",
       "      <td>Crime, Drama</td>\n",
       "      <td>Sidney Lumet</td>\n",
       "      <td>Reginald Rose (story), Reginald Rose (screenplay)</td>\n",
       "      <td>Martin Balsam, John Fiedler, Lee J. Cobb, E.G....</td>\n",
       "      <td>...</td>\n",
       "      <td>NaN</td>\n",
       "      <td>NaN</td>\n",
       "      <td>NaN</td>\n",
       "      <td>NaN</td>\n",
       "      <td>http://www.rottentomatoes.com/m/1000013-12_ang...</td>\n",
       "      <td>06 Mar 2001</td>\n",
       "      <td>NaN</td>\n",
       "      <td>Criterion Collection</td>\n",
       "      <td>http://www.criterion.com/films/27871-12-angry-men</td>\n",
       "      <td>True</td>\n",
       "    </tr>\n",
       "  </tbody>\n",
       "</table>\n",
       "<p>5 rows × 38 columns</p>\n",
       "</div>"
      ],
      "text/plain": [
       "   Unnamed: 0                     Title  Year     Rated     Released  Runtime  \\\n",
       "0           1  The Shawshank Redemption  1994         R  14 Oct 1994  142 min   \n",
       "1           2             The Godfather  1972         R  24 Mar 1972  175 min   \n",
       "2           3    The Godfather: Part II  1974         R  20 Dec 1974  202 min   \n",
       "3           4           The Dark Knight  2008     PG-13  18 Jul 2008  152 min   \n",
       "4           5              12 Angry Men  1957  APPROVED  01 Apr 1957   96 min   \n",
       "\n",
       "                  Genre              Director  \\\n",
       "0          Crime, Drama        Frank Darabont   \n",
       "1          Crime, Drama  Francis Ford Coppola   \n",
       "2          Crime, Drama  Francis Ford Coppola   \n",
       "3  Action, Crime, Drama     Christopher Nolan   \n",
       "4          Crime, Drama          Sidney Lumet   \n",
       "\n",
       "                                              Writer  \\\n",
       "0  Stephen King (short story \"Rita Hayworth and S...   \n",
       "1  Mario Puzo (screenplay), Francis Ford Coppola ...   \n",
       "2  Francis Ford Coppola (screenplay), Mario Puzo ...   \n",
       "3  Jonathan Nolan (screenplay), Christopher Nolan...   \n",
       "4  Reginald Rose (story), Reginald Rose (screenplay)   \n",
       "\n",
       "                                              Actors  ... tomatoConsensus  \\\n",
       "0  Tim Robbins, Morgan Freeman, Bob Gunton, Willi...  ...             NaN   \n",
       "1  Marlon Brando, Al Pacino, James Caan, Richard ...  ...             NaN   \n",
       "2  Al Pacino, Robert Duvall, Diane Keaton, Robert...  ...             NaN   \n",
       "3  Christian Bale, Heath Ledger, Aaron Eckhart, M...  ...             NaN   \n",
       "4  Martin Balsam, John Fiedler, Lee J. Cobb, E.G....  ...             NaN   \n",
       "\n",
       "  tomatoUserMeter tomatoUserRating tomatoUserReviews  \\\n",
       "0             NaN              NaN               NaN   \n",
       "1             NaN              NaN               NaN   \n",
       "2             NaN              NaN               NaN   \n",
       "3             NaN              NaN               NaN   \n",
       "4             NaN              NaN               NaN   \n",
       "\n",
       "                                           tomatoURL          DVD  \\\n",
       "0  http://www.rottentomatoes.com/m/shawshank_rede...  27 Jan 1998   \n",
       "1         http://www.rottentomatoes.com/m/godfather/  09 Oct 2001   \n",
       "2  http://www.rottentomatoes.com/m/godfather_part...  24 May 2005   \n",
       "3   http://www.rottentomatoes.com/m/the_dark_knight/  09 Dec 2008   \n",
       "4  http://www.rottentomatoes.com/m/1000013-12_ang...  06 Mar 2001   \n",
       "\n",
       "      BoxOffice                       Production  \\\n",
       "0           NaN                Columbia Pictures   \n",
       "1           NaN               Paramount Pictures   \n",
       "2           NaN               Paramount Pictures   \n",
       "3  $533,316,061  Warner Bros. Pictures/Legendary   \n",
       "4           NaN             Criterion Collection   \n",
       "\n",
       "                                             Website Response  \n",
       "0                                                NaN     True  \n",
       "1                        http://www.thegodfather.com     True  \n",
       "2                       http://www.thegodfather.com/     True  \n",
       "3               http://thedarkknight.warnerbros.com/     True  \n",
       "4  http://www.criterion.com/films/27871-12-angry-men     True  \n",
       "\n",
       "[5 rows x 38 columns]"
      ]
     },
     "execution_count": 4,
     "metadata": {},
     "output_type": "execute_result"
    }
   ],
   "source": [
    "#Load the dataset\n",
    "df = pd.read_csv('IMDB_Top250EngMovies.csv')\n",
    "df.head()"
   ]
  },
  {
   "cell_type": "code",
   "execution_count": 10,
   "id": "8818b818",
   "metadata": {},
   "outputs": [
    {
     "data": {
      "text/plain": [
       "(250, 38)"
      ]
     },
     "execution_count": 10,
     "metadata": {},
     "output_type": "execute_result"
    }
   ],
   "source": [
    "df.shape"
   ]
  },
  {
   "cell_type": "markdown",
   "id": "1f0089f4",
   "metadata": {},
   "source": [
    "### Dropping columns with NaN values"
   ]
  },
  {
   "cell_type": "code",
   "execution_count": 21,
   "id": "7c6b92d0",
   "metadata": {},
   "outputs": [],
   "source": [
    "df = df.dropna(axis=1)"
   ]
  },
  {
   "cell_type": "code",
   "execution_count": 22,
   "id": "e18d37b7",
   "metadata": {},
   "outputs": [
    {
     "data": {
      "text/plain": [
       "Unnamed: 0        250\n",
       "Title             250\n",
       "Year               85\n",
       "Rated              10\n",
       "Runtime           103\n",
       "Genre             110\n",
       "Director          155\n",
       "Actors            248\n",
       "Plot              250\n",
       "Language           68\n",
       "Country            39\n",
       "Poster            250\n",
       "Ratings.Source      1\n",
       "Ratings.Value      13\n",
       "imdbRating         13\n",
       "imdbVotes         250\n",
       "imdbID            250\n",
       "Type                1\n",
       "tomatoURL         250\n",
       "Production         89\n",
       "Response            1\n",
       "dtype: int64"
      ]
     },
     "execution_count": 22,
     "metadata": {},
     "output_type": "execute_result"
    }
   ],
   "source": [
    "df.nunique()"
   ]
  },
  {
   "cell_type": "code",
   "execution_count": 23,
   "id": "28788bf1",
   "metadata": {},
   "outputs": [
    {
     "name": "stdout",
     "output_type": "stream",
     "text": [
      "Rows x Columns :  250 x 21\n",
      "Features:  ['Unnamed: 0', 'Title', 'Year', 'Rated', 'Runtime', 'Genre', 'Director', 'Actors', 'Plot', 'Language', 'Country', 'Poster', 'Ratings.Source', 'Ratings.Value', 'imdbRating', 'imdbVotes', 'imdbID', 'Type', 'tomatoURL', 'Production', 'Response']\n",
      "nUnique values:\n",
      "Unnamed: 0        250\n",
      "Title             250\n",
      "Year               85\n",
      "Rated              10\n",
      "Runtime           103\n",
      "Genre             110\n",
      "Director          155\n",
      "Actors            248\n",
      "Plot              250\n",
      "Language           68\n",
      "Country            39\n",
      "Poster            250\n",
      "Ratings.Source      1\n",
      "Ratings.Value      13\n",
      "imdbRating         13\n",
      "imdbVotes         250\n",
      "imdbID            250\n",
      "Type                1\n",
      "tomatoURL         250\n",
      "Production         89\n",
      "Response            1\n",
      "dtype: int64\n"
     ]
    }
   ],
   "source": [
    "# data overview\n",
    "print('Rows x Columns : ', df.shape[0], 'x', df.shape[1])\n",
    "print('Features: ', df.columns.tolist())\n",
    "print('nUnique values:')\n",
    "print(df.nunique())"
   ]
  },
  {
   "cell_type": "code",
   "execution_count": 24,
   "id": "4654eaff",
   "metadata": {},
   "outputs": [
    {
     "name": "stdout",
     "output_type": "stream",
     "text": [
      "<class 'pandas.core.frame.DataFrame'>\n",
      "RangeIndex: 250 entries, 0 to 249\n",
      "Data columns (total 21 columns):\n",
      " #   Column          Non-Null Count  Dtype  \n",
      "---  ------          --------------  -----  \n",
      " 0   Unnamed: 0      250 non-null    int64  \n",
      " 1   Title           250 non-null    object \n",
      " 2   Year            250 non-null    int64  \n",
      " 3   Rated           250 non-null    object \n",
      " 4   Runtime         250 non-null    object \n",
      " 5   Genre           250 non-null    object \n",
      " 6   Director        250 non-null    object \n",
      " 7   Actors          250 non-null    object \n",
      " 8   Plot            250 non-null    object \n",
      " 9   Language        250 non-null    object \n",
      " 10  Country         250 non-null    object \n",
      " 11  Poster          250 non-null    object \n",
      " 12  Ratings.Source  250 non-null    object \n",
      " 13  Ratings.Value   250 non-null    object \n",
      " 14  imdbRating      250 non-null    float64\n",
      " 15  imdbVotes       250 non-null    object \n",
      " 16  imdbID          250 non-null    object \n",
      " 17  Type            250 non-null    object \n",
      " 18  tomatoURL       250 non-null    object \n",
      " 19  Production      250 non-null    object \n",
      " 20  Response        250 non-null    bool   \n",
      "dtypes: bool(1), float64(1), int64(2), object(17)\n",
      "memory usage: 39.4+ KB\n",
      "nMissing values:   0\n"
     ]
    },
    {
     "data": {
      "text/plain": [
       "Unnamed: 0        0\n",
       "Title             0\n",
       "Year              0\n",
       "Rated             0\n",
       "Runtime           0\n",
       "Genre             0\n",
       "Director          0\n",
       "Actors            0\n",
       "Plot              0\n",
       "Language          0\n",
       "Country           0\n",
       "Poster            0\n",
       "Ratings.Source    0\n",
       "Ratings.Value     0\n",
       "imdbRating        0\n",
       "imdbVotes         0\n",
       "imdbID            0\n",
       "Type              0\n",
       "tomatoURL         0\n",
       "Production        0\n",
       "Response          0\n",
       "dtype: int64"
      ]
     },
     "execution_count": 24,
     "metadata": {},
     "output_type": "execute_result"
    }
   ],
   "source": [
    "# type of entries, how many missing values/null fields\n",
    "df.info()\n",
    "print('nMissing values:  ', df.isnull().sum().values.sum())\n",
    "df.isnull().sum()"
   ]
  },
  {
   "cell_type": "code",
   "execution_count": 25,
   "id": "933667af",
   "metadata": {},
   "outputs": [
    {
     "data": {
      "text/html": [
       "<div>\n",
       "<style scoped>\n",
       "    .dataframe tbody tr th:only-of-type {\n",
       "        vertical-align: middle;\n",
       "    }\n",
       "\n",
       "    .dataframe tbody tr th {\n",
       "        vertical-align: top;\n",
       "    }\n",
       "\n",
       "    .dataframe thead th {\n",
       "        text-align: right;\n",
       "    }\n",
       "</style>\n",
       "<table border=\"1\" class=\"dataframe\">\n",
       "  <thead>\n",
       "    <tr style=\"text-align: right;\">\n",
       "      <th></th>\n",
       "      <th>count</th>\n",
       "      <th>mean</th>\n",
       "      <th>std</th>\n",
       "      <th>min</th>\n",
       "      <th>25%</th>\n",
       "      <th>50%</th>\n",
       "      <th>75%</th>\n",
       "      <th>max</th>\n",
       "    </tr>\n",
       "  </thead>\n",
       "  <tbody>\n",
       "    <tr>\n",
       "      <th>Unnamed: 0</th>\n",
       "      <td>250.0</td>\n",
       "      <td>125.500</td>\n",
       "      <td>72.312977</td>\n",
       "      <td>1.0</td>\n",
       "      <td>63.25</td>\n",
       "      <td>125.5</td>\n",
       "      <td>187.750</td>\n",
       "      <td>250.0</td>\n",
       "    </tr>\n",
       "    <tr>\n",
       "      <th>Year</th>\n",
       "      <td>250.0</td>\n",
       "      <td>1982.676</td>\n",
       "      <td>24.809212</td>\n",
       "      <td>1921.0</td>\n",
       "      <td>1961.25</td>\n",
       "      <td>1988.0</td>\n",
       "      <td>2003.000</td>\n",
       "      <td>2017.0</td>\n",
       "    </tr>\n",
       "    <tr>\n",
       "      <th>imdbRating</th>\n",
       "      <td>250.0</td>\n",
       "      <td>8.244</td>\n",
       "      <td>0.245735</td>\n",
       "      <td>8.0</td>\n",
       "      <td>8.10</td>\n",
       "      <td>8.2</td>\n",
       "      <td>8.375</td>\n",
       "      <td>9.3</td>\n",
       "    </tr>\n",
       "  </tbody>\n",
       "</table>\n",
       "</div>"
      ],
      "text/plain": [
       "            count      mean        std     min      25%     50%       75%  \\\n",
       "Unnamed: 0  250.0   125.500  72.312977     1.0    63.25   125.5   187.750   \n",
       "Year        250.0  1982.676  24.809212  1921.0  1961.25  1988.0  2003.000   \n",
       "imdbRating  250.0     8.244   0.245735     8.0     8.10     8.2     8.375   \n",
       "\n",
       "               max  \n",
       "Unnamed: 0   250.0  \n",
       "Year        2017.0  \n",
       "imdbRating     9.3  "
      ]
     },
     "execution_count": 25,
     "metadata": {},
     "output_type": "execute_result"
    }
   ],
   "source": [
    "df.describe().T"
   ]
  },
  {
   "cell_type": "code",
   "execution_count": 26,
   "id": "f82e80a4",
   "metadata": {},
   "outputs": [
    {
     "data": {
      "text/plain": [
       "(250, 21)"
      ]
     },
     "execution_count": 26,
     "metadata": {},
     "output_type": "execute_result"
    }
   ],
   "source": [
    "df.shape"
   ]
  },
  {
   "cell_type": "code",
   "execution_count": 27,
   "id": "65439ea6",
   "metadata": {},
   "outputs": [
    {
     "data": {
      "text/html": [
       "<div>\n",
       "<style scoped>\n",
       "    .dataframe tbody tr th:only-of-type {\n",
       "        vertical-align: middle;\n",
       "    }\n",
       "\n",
       "    .dataframe tbody tr th {\n",
       "        vertical-align: top;\n",
       "    }\n",
       "\n",
       "    .dataframe thead th {\n",
       "        text-align: right;\n",
       "    }\n",
       "</style>\n",
       "<table border=\"1\" class=\"dataframe\">\n",
       "  <thead>\n",
       "    <tr style=\"text-align: right;\">\n",
       "      <th></th>\n",
       "      <th>Unnamed: 0</th>\n",
       "      <th>Title</th>\n",
       "      <th>Year</th>\n",
       "      <th>Rated</th>\n",
       "      <th>Runtime</th>\n",
       "      <th>Genre</th>\n",
       "      <th>Director</th>\n",
       "      <th>Actors</th>\n",
       "      <th>Plot</th>\n",
       "      <th>Language</th>\n",
       "      <th>...</th>\n",
       "      <th>Poster</th>\n",
       "      <th>Ratings.Source</th>\n",
       "      <th>Ratings.Value</th>\n",
       "      <th>imdbRating</th>\n",
       "      <th>imdbVotes</th>\n",
       "      <th>imdbID</th>\n",
       "      <th>Type</th>\n",
       "      <th>tomatoURL</th>\n",
       "      <th>Production</th>\n",
       "      <th>Response</th>\n",
       "    </tr>\n",
       "  </thead>\n",
       "  <tbody>\n",
       "    <tr>\n",
       "      <th>0</th>\n",
       "      <td>1</td>\n",
       "      <td>The Shawshank Redemption</td>\n",
       "      <td>1994</td>\n",
       "      <td>R</td>\n",
       "      <td>142 min</td>\n",
       "      <td>Crime, Drama</td>\n",
       "      <td>Frank Darabont</td>\n",
       "      <td>Tim Robbins, Morgan Freeman, Bob Gunton, Willi...</td>\n",
       "      <td>Two imprisoned men bond over a number of years...</td>\n",
       "      <td>English</td>\n",
       "      <td>...</td>\n",
       "      <td>https://images-na.ssl-images-amazon.com/images...</td>\n",
       "      <td>Internet Movie Database</td>\n",
       "      <td>9.3/10</td>\n",
       "      <td>9.3</td>\n",
       "      <td>1,825,626</td>\n",
       "      <td>tt0111161</td>\n",
       "      <td>movie</td>\n",
       "      <td>http://www.rottentomatoes.com/m/shawshank_rede...</td>\n",
       "      <td>Columbia Pictures</td>\n",
       "      <td>True</td>\n",
       "    </tr>\n",
       "    <tr>\n",
       "      <th>1</th>\n",
       "      <td>2</td>\n",
       "      <td>The Godfather</td>\n",
       "      <td>1972</td>\n",
       "      <td>R</td>\n",
       "      <td>175 min</td>\n",
       "      <td>Crime, Drama</td>\n",
       "      <td>Francis Ford Coppola</td>\n",
       "      <td>Marlon Brando, Al Pacino, James Caan, Richard ...</td>\n",
       "      <td>The aging patriarch of an organized crime dyna...</td>\n",
       "      <td>English, Italian, Latin</td>\n",
       "      <td>...</td>\n",
       "      <td>https://images-na.ssl-images-amazon.com/images...</td>\n",
       "      <td>Internet Movie Database</td>\n",
       "      <td>9.2/10</td>\n",
       "      <td>9.2</td>\n",
       "      <td>1,243,444</td>\n",
       "      <td>tt0068646</td>\n",
       "      <td>movie</td>\n",
       "      <td>http://www.rottentomatoes.com/m/godfather/</td>\n",
       "      <td>Paramount Pictures</td>\n",
       "      <td>True</td>\n",
       "    </tr>\n",
       "    <tr>\n",
       "      <th>2</th>\n",
       "      <td>3</td>\n",
       "      <td>The Godfather: Part II</td>\n",
       "      <td>1974</td>\n",
       "      <td>R</td>\n",
       "      <td>202 min</td>\n",
       "      <td>Crime, Drama</td>\n",
       "      <td>Francis Ford Coppola</td>\n",
       "      <td>Al Pacino, Robert Duvall, Diane Keaton, Robert...</td>\n",
       "      <td>The early life and career of Vito Corleone in ...</td>\n",
       "      <td>English, Italian, Spanish, Latin, Sicilian</td>\n",
       "      <td>...</td>\n",
       "      <td>https://images-na.ssl-images-amazon.com/images...</td>\n",
       "      <td>Internet Movie Database</td>\n",
       "      <td>9.0/10</td>\n",
       "      <td>9.0</td>\n",
       "      <td>856,870</td>\n",
       "      <td>tt0071562</td>\n",
       "      <td>movie</td>\n",
       "      <td>http://www.rottentomatoes.com/m/godfather_part...</td>\n",
       "      <td>Paramount Pictures</td>\n",
       "      <td>True</td>\n",
       "    </tr>\n",
       "    <tr>\n",
       "      <th>3</th>\n",
       "      <td>4</td>\n",
       "      <td>The Dark Knight</td>\n",
       "      <td>2008</td>\n",
       "      <td>PG-13</td>\n",
       "      <td>152 min</td>\n",
       "      <td>Action, Crime, Drama</td>\n",
       "      <td>Christopher Nolan</td>\n",
       "      <td>Christian Bale, Heath Ledger, Aaron Eckhart, M...</td>\n",
       "      <td>When the menace known as the Joker emerges fro...</td>\n",
       "      <td>English, Mandarin</td>\n",
       "      <td>...</td>\n",
       "      <td>https://images-na.ssl-images-amazon.com/images...</td>\n",
       "      <td>Internet Movie Database</td>\n",
       "      <td>9.0/10</td>\n",
       "      <td>9.0</td>\n",
       "      <td>1,802,351</td>\n",
       "      <td>tt0468569</td>\n",
       "      <td>movie</td>\n",
       "      <td>http://www.rottentomatoes.com/m/the_dark_knight/</td>\n",
       "      <td>Warner Bros. Pictures/Legendary</td>\n",
       "      <td>True</td>\n",
       "    </tr>\n",
       "    <tr>\n",
       "      <th>4</th>\n",
       "      <td>5</td>\n",
       "      <td>12 Angry Men</td>\n",
       "      <td>1957</td>\n",
       "      <td>APPROVED</td>\n",
       "      <td>96 min</td>\n",
       "      <td>Crime, Drama</td>\n",
       "      <td>Sidney Lumet</td>\n",
       "      <td>Martin Balsam, John Fiedler, Lee J. Cobb, E.G....</td>\n",
       "      <td>A jury holdout attempts to prevent a miscarria...</td>\n",
       "      <td>English</td>\n",
       "      <td>...</td>\n",
       "      <td>https://images-na.ssl-images-amazon.com/images...</td>\n",
       "      <td>Internet Movie Database</td>\n",
       "      <td>8.9/10</td>\n",
       "      <td>8.9</td>\n",
       "      <td>494,215</td>\n",
       "      <td>tt0050083</td>\n",
       "      <td>movie</td>\n",
       "      <td>http://www.rottentomatoes.com/m/1000013-12_ang...</td>\n",
       "      <td>Criterion Collection</td>\n",
       "      <td>True</td>\n",
       "    </tr>\n",
       "  </tbody>\n",
       "</table>\n",
       "<p>5 rows × 21 columns</p>\n",
       "</div>"
      ],
      "text/plain": [
       "   Unnamed: 0                     Title  Year     Rated  Runtime  \\\n",
       "0           1  The Shawshank Redemption  1994         R  142 min   \n",
       "1           2             The Godfather  1972         R  175 min   \n",
       "2           3    The Godfather: Part II  1974         R  202 min   \n",
       "3           4           The Dark Knight  2008     PG-13  152 min   \n",
       "4           5              12 Angry Men  1957  APPROVED   96 min   \n",
       "\n",
       "                  Genre              Director  \\\n",
       "0          Crime, Drama        Frank Darabont   \n",
       "1          Crime, Drama  Francis Ford Coppola   \n",
       "2          Crime, Drama  Francis Ford Coppola   \n",
       "3  Action, Crime, Drama     Christopher Nolan   \n",
       "4          Crime, Drama          Sidney Lumet   \n",
       "\n",
       "                                              Actors  \\\n",
       "0  Tim Robbins, Morgan Freeman, Bob Gunton, Willi...   \n",
       "1  Marlon Brando, Al Pacino, James Caan, Richard ...   \n",
       "2  Al Pacino, Robert Duvall, Diane Keaton, Robert...   \n",
       "3  Christian Bale, Heath Ledger, Aaron Eckhart, M...   \n",
       "4  Martin Balsam, John Fiedler, Lee J. Cobb, E.G....   \n",
       "\n",
       "                                                Plot  \\\n",
       "0  Two imprisoned men bond over a number of years...   \n",
       "1  The aging patriarch of an organized crime dyna...   \n",
       "2  The early life and career of Vito Corleone in ...   \n",
       "3  When the menace known as the Joker emerges fro...   \n",
       "4  A jury holdout attempts to prevent a miscarria...   \n",
       "\n",
       "                                     Language  ...  \\\n",
       "0                                     English  ...   \n",
       "1                     English, Italian, Latin  ...   \n",
       "2  English, Italian, Spanish, Latin, Sicilian  ...   \n",
       "3                           English, Mandarin  ...   \n",
       "4                                     English  ...   \n",
       "\n",
       "                                              Poster           Ratings.Source  \\\n",
       "0  https://images-na.ssl-images-amazon.com/images...  Internet Movie Database   \n",
       "1  https://images-na.ssl-images-amazon.com/images...  Internet Movie Database   \n",
       "2  https://images-na.ssl-images-amazon.com/images...  Internet Movie Database   \n",
       "3  https://images-na.ssl-images-amazon.com/images...  Internet Movie Database   \n",
       "4  https://images-na.ssl-images-amazon.com/images...  Internet Movie Database   \n",
       "\n",
       "  Ratings.Value imdbRating  imdbVotes     imdbID   Type  \\\n",
       "0        9.3/10        9.3  1,825,626  tt0111161  movie   \n",
       "1        9.2/10        9.2  1,243,444  tt0068646  movie   \n",
       "2        9.0/10        9.0    856,870  tt0071562  movie   \n",
       "3        9.0/10        9.0  1,802,351  tt0468569  movie   \n",
       "4        8.9/10        8.9    494,215  tt0050083  movie   \n",
       "\n",
       "                                           tomatoURL  \\\n",
       "0  http://www.rottentomatoes.com/m/shawshank_rede...   \n",
       "1         http://www.rottentomatoes.com/m/godfather/   \n",
       "2  http://www.rottentomatoes.com/m/godfather_part...   \n",
       "3   http://www.rottentomatoes.com/m/the_dark_knight/   \n",
       "4  http://www.rottentomatoes.com/m/1000013-12_ang...   \n",
       "\n",
       "                        Production Response  \n",
       "0                Columbia Pictures     True  \n",
       "1               Paramount Pictures     True  \n",
       "2               Paramount Pictures     True  \n",
       "3  Warner Bros. Pictures/Legendary     True  \n",
       "4             Criterion Collection     True  \n",
       "\n",
       "[5 rows x 21 columns]"
      ]
     },
     "execution_count": 27,
     "metadata": {},
     "output_type": "execute_result"
    }
   ],
   "source": [
    "df.head()"
   ]
  },
  {
   "cell_type": "code",
   "execution_count": 29,
   "id": "0f7b74db",
   "metadata": {},
   "outputs": [
    {
     "data": {
      "text/plain": [
       "Unnamed: 0          int64\n",
       "Title              object\n",
       "Year                int64\n",
       "Rated              object\n",
       "Runtime            object\n",
       "Genre              object\n",
       "Director           object\n",
       "Actors             object\n",
       "Plot               object\n",
       "Language           object\n",
       "Country            object\n",
       "Poster             object\n",
       "Ratings.Source     object\n",
       "Ratings.Value      object\n",
       "imdbRating        float64\n",
       "imdbVotes          object\n",
       "imdbID             object\n",
       "Type               object\n",
       "tomatoURL          object\n",
       "Production         object\n",
       "Response             bool\n",
       "dtype: object"
      ]
     },
     "execution_count": 29,
     "metadata": {},
     "output_type": "execute_result"
    }
   ],
   "source": [
    "df.dtypes"
   ]
  },
  {
   "cell_type": "code",
   "execution_count": 35,
   "id": "70e79328",
   "metadata": {},
   "outputs": [],
   "source": [
    "df.drop(['Unnamed: 0', 'Year', 'Rated','Runtime','Language','Country', 'Poster','Ratings.Source','Ratings.Value',\n",
    "                'imdbID','Type','tomatoURL','Production','Response'], axis=1, inplace=True)"
   ]
  },
  {
   "cell_type": "code",
   "execution_count": 36,
   "id": "772a0472",
   "metadata": {},
   "outputs": [
    {
     "data": {
      "text/plain": [
       "(250, 7)"
      ]
     },
     "execution_count": 36,
     "metadata": {},
     "output_type": "execute_result"
    }
   ],
   "source": [
    "df.shape"
   ]
  },
  {
   "cell_type": "code",
   "execution_count": 43,
   "id": "7ecddfb5",
   "metadata": {},
   "outputs": [
    {
     "data": {
      "text/html": [
       "<div>\n",
       "<style scoped>\n",
       "    .dataframe tbody tr th:only-of-type {\n",
       "        vertical-align: middle;\n",
       "    }\n",
       "\n",
       "    .dataframe tbody tr th {\n",
       "        vertical-align: top;\n",
       "    }\n",
       "\n",
       "    .dataframe thead th {\n",
       "        text-align: right;\n",
       "    }\n",
       "</style>\n",
       "<table border=\"1\" class=\"dataframe\">\n",
       "  <thead>\n",
       "    <tr style=\"text-align: right;\">\n",
       "      <th></th>\n",
       "      <th>Title</th>\n",
       "      <th>Genre</th>\n",
       "      <th>Director</th>\n",
       "      <th>Actors</th>\n",
       "      <th>Plot</th>\n",
       "      <th>imdbVotes</th>\n",
       "    </tr>\n",
       "  </thead>\n",
       "  <tbody>\n",
       "    <tr>\n",
       "      <th>0</th>\n",
       "      <td>The Shawshank Redemption</td>\n",
       "      <td>Crime, Drama</td>\n",
       "      <td>Frank Darabont</td>\n",
       "      <td>Tim Robbins, Morgan Freeman, Bob Gunton, Willi...</td>\n",
       "      <td>Two imprisoned men bond over a number of years...</td>\n",
       "      <td>1,825,626</td>\n",
       "    </tr>\n",
       "    <tr>\n",
       "      <th>1</th>\n",
       "      <td>The Godfather</td>\n",
       "      <td>Crime, Drama</td>\n",
       "      <td>Francis Ford Coppola</td>\n",
       "      <td>Marlon Brando, Al Pacino, James Caan, Richard ...</td>\n",
       "      <td>The aging patriarch of an organized crime dyna...</td>\n",
       "      <td>1,243,444</td>\n",
       "    </tr>\n",
       "    <tr>\n",
       "      <th>2</th>\n",
       "      <td>The Godfather: Part II</td>\n",
       "      <td>Crime, Drama</td>\n",
       "      <td>Francis Ford Coppola</td>\n",
       "      <td>Al Pacino, Robert Duvall, Diane Keaton, Robert...</td>\n",
       "      <td>The early life and career of Vito Corleone in ...</td>\n",
       "      <td>856,870</td>\n",
       "    </tr>\n",
       "    <tr>\n",
       "      <th>3</th>\n",
       "      <td>The Dark Knight</td>\n",
       "      <td>Action, Crime, Drama</td>\n",
       "      <td>Christopher Nolan</td>\n",
       "      <td>Christian Bale, Heath Ledger, Aaron Eckhart, M...</td>\n",
       "      <td>When the menace known as the Joker emerges fro...</td>\n",
       "      <td>1,802,351</td>\n",
       "    </tr>\n",
       "    <tr>\n",
       "      <th>4</th>\n",
       "      <td>12 Angry Men</td>\n",
       "      <td>Crime, Drama</td>\n",
       "      <td>Sidney Lumet</td>\n",
       "      <td>Martin Balsam, John Fiedler, Lee J. Cobb, E.G....</td>\n",
       "      <td>A jury holdout attempts to prevent a miscarria...</td>\n",
       "      <td>494,215</td>\n",
       "    </tr>\n",
       "  </tbody>\n",
       "</table>\n",
       "</div>"
      ],
      "text/plain": [
       "                      Title                 Genre              Director  \\\n",
       "0  The Shawshank Redemption          Crime, Drama        Frank Darabont   \n",
       "1             The Godfather          Crime, Drama  Francis Ford Coppola   \n",
       "2    The Godfather: Part II          Crime, Drama  Francis Ford Coppola   \n",
       "3           The Dark Knight  Action, Crime, Drama     Christopher Nolan   \n",
       "4              12 Angry Men          Crime, Drama          Sidney Lumet   \n",
       "\n",
       "                                              Actors  \\\n",
       "0  Tim Robbins, Morgan Freeman, Bob Gunton, Willi...   \n",
       "1  Marlon Brando, Al Pacino, James Caan, Richard ...   \n",
       "2  Al Pacino, Robert Duvall, Diane Keaton, Robert...   \n",
       "3  Christian Bale, Heath Ledger, Aaron Eckhart, M...   \n",
       "4  Martin Balsam, John Fiedler, Lee J. Cobb, E.G....   \n",
       "\n",
       "                                                Plot  imdbVotes  \n",
       "0  Two imprisoned men bond over a number of years...  1,825,626  \n",
       "1  The aging patriarch of an organized crime dyna...  1,243,444  \n",
       "2  The early life and career of Vito Corleone in ...    856,870  \n",
       "3  When the menace known as the Joker emerges fro...  1,802,351  \n",
       "4  A jury holdout attempts to prevent a miscarria...    494,215  "
      ]
     },
     "execution_count": 43,
     "metadata": {},
     "output_type": "execute_result"
    }
   ],
   "source": [
    "df.head()"
   ]
  },
  {
   "cell_type": "code",
   "execution_count": 44,
   "id": "dd199782",
   "metadata": {},
   "outputs": [],
   "source": [
    "df.drop(['imdbVotes'], axis=1, inplace=True)"
   ]
  },
  {
   "cell_type": "code",
   "execution_count": 45,
   "id": "176a24d9",
   "metadata": {},
   "outputs": [
    {
     "data": {
      "text/html": [
       "<div>\n",
       "<style scoped>\n",
       "    .dataframe tbody tr th:only-of-type {\n",
       "        vertical-align: middle;\n",
       "    }\n",
       "\n",
       "    .dataframe tbody tr th {\n",
       "        vertical-align: top;\n",
       "    }\n",
       "\n",
       "    .dataframe thead th {\n",
       "        text-align: right;\n",
       "    }\n",
       "</style>\n",
       "<table border=\"1\" class=\"dataframe\">\n",
       "  <thead>\n",
       "    <tr style=\"text-align: right;\">\n",
       "      <th></th>\n",
       "      <th>Title</th>\n",
       "      <th>Genre</th>\n",
       "      <th>Director</th>\n",
       "      <th>Actors</th>\n",
       "      <th>Plot</th>\n",
       "    </tr>\n",
       "  </thead>\n",
       "  <tbody>\n",
       "    <tr>\n",
       "      <th>0</th>\n",
       "      <td>The Shawshank Redemption</td>\n",
       "      <td>Crime, Drama</td>\n",
       "      <td>Frank Darabont</td>\n",
       "      <td>Tim Robbins, Morgan Freeman, Bob Gunton, Willi...</td>\n",
       "      <td>Two imprisoned men bond over a number of years...</td>\n",
       "    </tr>\n",
       "    <tr>\n",
       "      <th>1</th>\n",
       "      <td>The Godfather</td>\n",
       "      <td>Crime, Drama</td>\n",
       "      <td>Francis Ford Coppola</td>\n",
       "      <td>Marlon Brando, Al Pacino, James Caan, Richard ...</td>\n",
       "      <td>The aging patriarch of an organized crime dyna...</td>\n",
       "    </tr>\n",
       "    <tr>\n",
       "      <th>2</th>\n",
       "      <td>The Godfather: Part II</td>\n",
       "      <td>Crime, Drama</td>\n",
       "      <td>Francis Ford Coppola</td>\n",
       "      <td>Al Pacino, Robert Duvall, Diane Keaton, Robert...</td>\n",
       "      <td>The early life and career of Vito Corleone in ...</td>\n",
       "    </tr>\n",
       "    <tr>\n",
       "      <th>3</th>\n",
       "      <td>The Dark Knight</td>\n",
       "      <td>Action, Crime, Drama</td>\n",
       "      <td>Christopher Nolan</td>\n",
       "      <td>Christian Bale, Heath Ledger, Aaron Eckhart, M...</td>\n",
       "      <td>When the menace known as the Joker emerges fro...</td>\n",
       "    </tr>\n",
       "    <tr>\n",
       "      <th>4</th>\n",
       "      <td>12 Angry Men</td>\n",
       "      <td>Crime, Drama</td>\n",
       "      <td>Sidney Lumet</td>\n",
       "      <td>Martin Balsam, John Fiedler, Lee J. Cobb, E.G....</td>\n",
       "      <td>A jury holdout attempts to prevent a miscarria...</td>\n",
       "    </tr>\n",
       "  </tbody>\n",
       "</table>\n",
       "</div>"
      ],
      "text/plain": [
       "                      Title                 Genre              Director  \\\n",
       "0  The Shawshank Redemption          Crime, Drama        Frank Darabont   \n",
       "1             The Godfather          Crime, Drama  Francis Ford Coppola   \n",
       "2    The Godfather: Part II          Crime, Drama  Francis Ford Coppola   \n",
       "3           The Dark Knight  Action, Crime, Drama     Christopher Nolan   \n",
       "4              12 Angry Men          Crime, Drama          Sidney Lumet   \n",
       "\n",
       "                                              Actors  \\\n",
       "0  Tim Robbins, Morgan Freeman, Bob Gunton, Willi...   \n",
       "1  Marlon Brando, Al Pacino, James Caan, Richard ...   \n",
       "2  Al Pacino, Robert Duvall, Diane Keaton, Robert...   \n",
       "3  Christian Bale, Heath Ledger, Aaron Eckhart, M...   \n",
       "4  Martin Balsam, John Fiedler, Lee J. Cobb, E.G....   \n",
       "\n",
       "                                                Plot  \n",
       "0  Two imprisoned men bond over a number of years...  \n",
       "1  The aging patriarch of an organized crime dyna...  \n",
       "2  The early life and career of Vito Corleone in ...  \n",
       "3  When the menace known as the Joker emerges fro...  \n",
       "4  A jury holdout attempts to prevent a miscarria...  "
      ]
     },
     "execution_count": 45,
     "metadata": {},
     "output_type": "execute_result"
    }
   ],
   "source": [
    "df.head()"
   ]
  },
  {
   "cell_type": "code",
   "execution_count": 46,
   "id": "2d64506d",
   "metadata": {},
   "outputs": [
    {
     "name": "stdout",
     "output_type": "stream",
     "text": [
      "Rows x Columns :  250 x 5\n",
      "Features:  ['Title', 'Genre', 'Director', 'Actors', 'Plot']\n",
      "nUnique values:\n",
      "Title       250\n",
      "Genre       110\n",
      "Director    155\n",
      "Actors      248\n",
      "Plot        250\n",
      "dtype: int64\n"
     ]
    }
   ],
   "source": [
    "print('Rows x Columns : ', df.shape[0], 'x', df.shape[1])\n",
    "print('Features: ', df.columns.tolist())\n",
    "print('nUnique values:')\n",
    "print(df.nunique())"
   ]
  },
  {
   "cell_type": "code",
   "execution_count": 47,
   "id": "21abfb76",
   "metadata": {},
   "outputs": [
    {
     "data": {
      "text/html": [
       "<div>\n",
       "<style scoped>\n",
       "    .dataframe tbody tr th:only-of-type {\n",
       "        vertical-align: middle;\n",
       "    }\n",
       "\n",
       "    .dataframe tbody tr th {\n",
       "        vertical-align: top;\n",
       "    }\n",
       "\n",
       "    .dataframe thead th {\n",
       "        text-align: right;\n",
       "    }\n",
       "</style>\n",
       "<table border=\"1\" class=\"dataframe\">\n",
       "  <thead>\n",
       "    <tr style=\"text-align: right;\">\n",
       "      <th></th>\n",
       "      <th>count</th>\n",
       "      <th>unique</th>\n",
       "      <th>top</th>\n",
       "      <th>freq</th>\n",
       "    </tr>\n",
       "  </thead>\n",
       "  <tbody>\n",
       "    <tr>\n",
       "      <th>Title</th>\n",
       "      <td>250</td>\n",
       "      <td>250</td>\n",
       "      <td>Schindler's List</td>\n",
       "      <td>1</td>\n",
       "    </tr>\n",
       "    <tr>\n",
       "      <th>Genre</th>\n",
       "      <td>250</td>\n",
       "      <td>110</td>\n",
       "      <td>Drama</td>\n",
       "      <td>19</td>\n",
       "    </tr>\n",
       "    <tr>\n",
       "      <th>Director</th>\n",
       "      <td>250</td>\n",
       "      <td>155</td>\n",
       "      <td>Alfred Hitchcock</td>\n",
       "      <td>9</td>\n",
       "    </tr>\n",
       "    <tr>\n",
       "      <th>Actors</th>\n",
       "      <td>250</td>\n",
       "      <td>248</td>\n",
       "      <td>Chris Pratt, Zoe Saldana, Dave Bautista, Vin D...</td>\n",
       "      <td>2</td>\n",
       "    </tr>\n",
       "    <tr>\n",
       "      <th>Plot</th>\n",
       "      <td>250</td>\n",
       "      <td>250</td>\n",
       "      <td>The Tramp struggles to live in modern industri...</td>\n",
       "      <td>1</td>\n",
       "    </tr>\n",
       "  </tbody>\n",
       "</table>\n",
       "</div>"
      ],
      "text/plain": [
       "         count unique                                                top freq\n",
       "Title      250    250                                   Schindler's List    1\n",
       "Genre      250    110                                              Drama   19\n",
       "Director   250    155                                   Alfred Hitchcock    9\n",
       "Actors     250    248  Chris Pratt, Zoe Saldana, Dave Bautista, Vin D...    2\n",
       "Plot       250    250  The Tramp struggles to live in modern industri...    1"
      ]
     },
     "execution_count": 47,
     "metadata": {},
     "output_type": "execute_result"
    }
   ],
   "source": [
    "df.describe().T"
   ]
  },
  {
   "cell_type": "code",
   "execution_count": 48,
   "id": "fcaa1ac5",
   "metadata": {},
   "outputs": [
    {
     "name": "stdout",
     "output_type": "stream",
     "text": [
      "nMissing values:   0\n"
     ]
    },
    {
     "data": {
      "text/plain": [
       "Title       0\n",
       "Genre       0\n",
       "Director    0\n",
       "Actors      0\n",
       "Plot        0\n",
       "dtype: int64"
      ]
     },
     "execution_count": 48,
     "metadata": {},
     "output_type": "execute_result"
    }
   ],
   "source": [
    "print('nMissing values:  ', df.isnull().sum().values.sum())\n",
    "df.isnull().sum()"
   ]
  },
  {
   "cell_type": "markdown",
   "id": "90d420d2",
   "metadata": {},
   "source": [
    "### Text Preprocessing with NLP\n",
    "\n",
    "Creating a new column in our dataframe that will hold all necessary keywords required for the model. We name it **‘Key_words’**. Further, we use a very special NLP library known as **RAKE** (short for Rapid Automatic Keyword Extraction algorithm). RAKE is a keyword extraction algorithm that extracts those key phrases in a text corpus by determining the frequency of words and their relative occurrence with other words in the corpus."
   ]
  },
  {
   "cell_type": "code",
   "execution_count": 49,
   "id": "6ad8dbc7",
   "metadata": {},
   "outputs": [],
   "source": [
    "# Text Pre-processing with NLP\n",
    "\n",
    "# to remove punctuations from Plot\n",
    "df['Plot'] = df['Plot'].str.replace('[^ws]','')"
   ]
  },
  {
   "cell_type": "code",
   "execution_count": 51,
   "id": "bec89e5e",
   "metadata": {},
   "outputs": [
    {
     "name": "stderr",
     "output_type": "stream",
     "text": [
      "[nltk_data] Downloading package stopwords to\n",
      "[nltk_data]     C:\\Users\\joshm\\AppData\\Roaming\\nltk_data...\n",
      "[nltk_data]   Unzipping corpora\\stopwords.zip.\n"
     ]
    },
    {
     "data": {
      "text/plain": [
       "True"
      ]
     },
     "execution_count": 51,
     "metadata": {},
     "output_type": "execute_result"
    }
   ],
   "source": [
    "import nltk\n",
    "nltk.download('stopwords')"
   ]
  },
  {
   "cell_type": "code",
   "execution_count": 53,
   "id": "9a42a509",
   "metadata": {},
   "outputs": [
    {
     "name": "stderr",
     "output_type": "stream",
     "text": [
      "[nltk_data] Downloading package punkt to\n",
      "[nltk_data]     C:\\Users\\joshm\\AppData\\Roaming\\nltk_data...\n",
      "[nltk_data]   Unzipping tokenizers\\punkt.zip.\n"
     ]
    },
    {
     "data": {
      "text/plain": [
       "True"
      ]
     },
     "execution_count": 53,
     "metadata": {},
     "output_type": "execute_result"
    }
   ],
   "source": [
    "nltk.download('punkt')"
   ]
  },
  {
   "cell_type": "code",
   "execution_count": 54,
   "id": "b6487b05",
   "metadata": {},
   "outputs": [
    {
     "data": {
      "text/html": [
       "<div>\n",
       "<style scoped>\n",
       "    .dataframe tbody tr th:only-of-type {\n",
       "        vertical-align: middle;\n",
       "    }\n",
       "\n",
       "    .dataframe tbody tr th {\n",
       "        vertical-align: top;\n",
       "    }\n",
       "\n",
       "    .dataframe thead th {\n",
       "        text-align: right;\n",
       "    }\n",
       "</style>\n",
       "<table border=\"1\" class=\"dataframe\">\n",
       "  <thead>\n",
       "    <tr style=\"text-align: right;\">\n",
       "      <th></th>\n",
       "      <th>Title</th>\n",
       "      <th>Genre</th>\n",
       "      <th>Director</th>\n",
       "      <th>Actors</th>\n",
       "      <th>Plot</th>\n",
       "      <th>Key_words</th>\n",
       "    </tr>\n",
       "  </thead>\n",
       "  <tbody>\n",
       "    <tr>\n",
       "      <th>0</th>\n",
       "      <td>The Shawshank Redemption</td>\n",
       "      <td>Crime, Drama</td>\n",
       "      <td>Frank Darabont</td>\n",
       "      <td>Tim Robbins, Morgan Freeman, Bob Gunton, Willi...</td>\n",
       "      <td>wssss</td>\n",
       "      <td>[wssss]</td>\n",
       "    </tr>\n",
       "    <tr>\n",
       "      <th>1</th>\n",
       "      <td>The Godfather</td>\n",
       "      <td>Crime, Drama</td>\n",
       "      <td>Francis Ford Coppola</td>\n",
       "      <td>Marlon Brando, Al Pacino, James Caan, Richard ...</td>\n",
       "      <td>sssssss</td>\n",
       "      <td>[sssssss]</td>\n",
       "    </tr>\n",
       "    <tr>\n",
       "      <th>2</th>\n",
       "      <td>The Godfather: Part II</td>\n",
       "      <td>Crime, Drama</td>\n",
       "      <td>Francis Ford Coppola</td>\n",
       "      <td>Al Pacino, Robert Duvall, Diane Keaton, Robert...</td>\n",
       "      <td>swswssssss</td>\n",
       "      <td>[swswssssss]</td>\n",
       "    </tr>\n",
       "    <tr>\n",
       "      <th>3</th>\n",
       "      <td>The Dark Knight</td>\n",
       "      <td>Action, Crime, Drama</td>\n",
       "      <td>Christopher Nolan</td>\n",
       "      <td>Christian Bale, Heath Ledger, Aaron Eckhart, M...</td>\n",
       "      <td>wsssssswssssssssss</td>\n",
       "      <td>[wsssssswssssssssss]</td>\n",
       "    </tr>\n",
       "    <tr>\n",
       "      <th>4</th>\n",
       "      <td>12 Angry Men</td>\n",
       "      <td>Crime, Drama</td>\n",
       "      <td>Sidney Lumet</td>\n",
       "      <td>Martin Balsam, John Fiedler, Lee J. Cobb, E.G....</td>\n",
       "      <td>ssssss</td>\n",
       "      <td>[ssssss]</td>\n",
       "    </tr>\n",
       "    <tr>\n",
       "      <th>...</th>\n",
       "      <td>...</td>\n",
       "      <td>...</td>\n",
       "      <td>...</td>\n",
       "      <td>...</td>\n",
       "      <td>...</td>\n",
       "      <td>...</td>\n",
       "    </tr>\n",
       "    <tr>\n",
       "      <th>245</th>\n",
       "      <td>The Lost Weekend</td>\n",
       "      <td>Drama, Film-Noir</td>\n",
       "      <td>Billy Wilder</td>\n",
       "      <td>Ray Milland, Jane Wyman, Phillip Terry, Howard...</td>\n",
       "      <td>ssw</td>\n",
       "      <td>[ssw]</td>\n",
       "    </tr>\n",
       "    <tr>\n",
       "      <th>246</th>\n",
       "      <td>Short Term 12</td>\n",
       "      <td>Drama</td>\n",
       "      <td>Destin Daniel Cretton</td>\n",
       "      <td>Brie Larson, John Gallagher Jr., Stephanie Bea...</td>\n",
       "      <td>sssssswswsw</td>\n",
       "      <td>[sssssswswsw]</td>\n",
       "    </tr>\n",
       "    <tr>\n",
       "      <th>247</th>\n",
       "      <td>His Girl Friday</td>\n",
       "      <td>Comedy, Drama, Romance</td>\n",
       "      <td>Howard Hawks</td>\n",
       "      <td>Cary Grant, Rosalind Russell, Ralph Bellamy, G...</td>\n",
       "      <td>wssssw</td>\n",
       "      <td>[wssssw]</td>\n",
       "    </tr>\n",
       "    <tr>\n",
       "      <th>248</th>\n",
       "      <td>The Straight Story</td>\n",
       "      <td>Biography, Drama</td>\n",
       "      <td>David Lynch</td>\n",
       "      <td>Sissy Spacek, Jane Galloway Heitz, Joseph A. C...</td>\n",
       "      <td>swssw</td>\n",
       "      <td>[swssw]</td>\n",
       "    </tr>\n",
       "    <tr>\n",
       "      <th>249</th>\n",
       "      <td>Slumdog Millionaire</td>\n",
       "      <td>Drama</td>\n",
       "      <td>Danny Boyle, Loveleen Tandan</td>\n",
       "      <td>Dev Patel, Saurabh Shukla, Anil Kapoor, Raj Zu...</td>\n",
       "      <td>sssswssss</td>\n",
       "      <td>[sssswssss]</td>\n",
       "    </tr>\n",
       "  </tbody>\n",
       "</table>\n",
       "<p>250 rows × 6 columns</p>\n",
       "</div>"
      ],
      "text/plain": [
       "                        Title                   Genre  \\\n",
       "0    The Shawshank Redemption            Crime, Drama   \n",
       "1               The Godfather            Crime, Drama   \n",
       "2      The Godfather: Part II            Crime, Drama   \n",
       "3             The Dark Knight    Action, Crime, Drama   \n",
       "4                12 Angry Men            Crime, Drama   \n",
       "..                        ...                     ...   \n",
       "245          The Lost Weekend        Drama, Film-Noir   \n",
       "246             Short Term 12                   Drama   \n",
       "247           His Girl Friday  Comedy, Drama, Romance   \n",
       "248        The Straight Story        Biography, Drama   \n",
       "249       Slumdog Millionaire                   Drama   \n",
       "\n",
       "                         Director  \\\n",
       "0                  Frank Darabont   \n",
       "1            Francis Ford Coppola   \n",
       "2            Francis Ford Coppola   \n",
       "3               Christopher Nolan   \n",
       "4                    Sidney Lumet   \n",
       "..                            ...   \n",
       "245                  Billy Wilder   \n",
       "246         Destin Daniel Cretton   \n",
       "247                  Howard Hawks   \n",
       "248                   David Lynch   \n",
       "249  Danny Boyle, Loveleen Tandan   \n",
       "\n",
       "                                                Actors                Plot  \\\n",
       "0    Tim Robbins, Morgan Freeman, Bob Gunton, Willi...               wssss   \n",
       "1    Marlon Brando, Al Pacino, James Caan, Richard ...             sssssss   \n",
       "2    Al Pacino, Robert Duvall, Diane Keaton, Robert...          swswssssss   \n",
       "3    Christian Bale, Heath Ledger, Aaron Eckhart, M...  wsssssswssssssssss   \n",
       "4    Martin Balsam, John Fiedler, Lee J. Cobb, E.G....              ssssss   \n",
       "..                                                 ...                 ...   \n",
       "245  Ray Milland, Jane Wyman, Phillip Terry, Howard...                 ssw   \n",
       "246  Brie Larson, John Gallagher Jr., Stephanie Bea...         sssssswswsw   \n",
       "247  Cary Grant, Rosalind Russell, Ralph Bellamy, G...              wssssw   \n",
       "248  Sissy Spacek, Jane Galloway Heitz, Joseph A. C...               swssw   \n",
       "249  Dev Patel, Saurabh Shukla, Anil Kapoor, Raj Zu...           sssswssss   \n",
       "\n",
       "                Key_words  \n",
       "0                 [wssss]  \n",
       "1               [sssssss]  \n",
       "2            [swswssssss]  \n",
       "3    [wsssssswssssssssss]  \n",
       "4                [ssssss]  \n",
       "..                    ...  \n",
       "245                 [ssw]  \n",
       "246         [sssssswswsw]  \n",
       "247              [wssssw]  \n",
       "248               [swssw]  \n",
       "249           [sssswssss]  \n",
       "\n",
       "[250 rows x 6 columns]"
      ]
     },
     "execution_count": 54,
     "metadata": {},
     "output_type": "execute_result"
    }
   ],
   "source": [
    "# to extract key words from Plot to a list\n",
    "df['Key_words'] = ''   # initializing a new column\n",
    "r = Rake()   # using Rake to remove stop words\n",
    "\n",
    "for index, row in df.iterrows():\n",
    "    r.extract_keywords_from_text(row['Plot'])   # to extract key words \n",
    "    key_words_dict_scores = r.get_word_degrees()    # to get dictionary with key words and their similarity scores\n",
    "    row['Key_words'] = list(key_words_dict_scores.keys())   # to assign it to new column\n",
    "\n",
    "df"
   ]
  },
  {
   "cell_type": "code",
   "execution_count": 55,
   "id": "c607436d",
   "metadata": {},
   "outputs": [],
   "source": [
    "# to extract all genre into a list, only the first three actors into a list, and all directors into a list\n",
    "df['Genre'] = df['Genre'].map(lambda x: x.split(','))\n",
    "df['Actors'] = df['Actors'].map(lambda x: x.split(',')[:3])\n",
    "df['Director'] = df['Director'].map(lambda x: x.split(','))\n",
    "\n",
    "# create unique names by merging firstname & surname into one word, & convert to lowercase \n",
    "for index, row in df.iterrows():\n",
    "    row['Genre'] = [x.lower().replace(' ','') for x in row['Genre']]\n",
    "    row['Actors'] = [x.lower().replace(' ','') for x in row['Actors']]\n",
    "    row['Director'] = [x.lower().replace(' ','') for x in row['Director']]"
   ]
  },
  {
   "cell_type": "markdown",
   "id": "0b87607e",
   "metadata": {},
   "source": [
    "### Generating Word Representations using Bag of Words\n",
    "BoW or Bag of Words is an Information Retrieval(IR) model which is useful for creating a representation of text, which describes the occurrence of words in a document or simply implies to us whether a particular word is frequent in the text corpus or not.\n",
    "\n",
    "It is very useful for creating vector representations of frequent words in a corpus and then computing the similarity scores (‘similarity matrix’.)"
   ]
  },
  {
   "cell_type": "code",
   "execution_count": 56,
   "id": "504e6d16",
   "metadata": {},
   "outputs": [],
   "source": [
    "# Generating Word Representations using Bag of Words\n",
    "\n",
    "# to combine 4 lists (4 columns) of key words into 1 sentence under Bag_of_words column\n",
    "df['Bag_of_words'] = ''\n",
    "columns = ['Genre', 'Director', 'Actors', 'Key_words']\n",
    "\n",
    "for index, row in df.iterrows():\n",
    "    words = ''\n",
    "    for col in columns:\n",
    "        words += ' '.join(row[col]) + ' '\n",
    "    row['Bag_of_words'] = words\n",
    "    \n",
    "# strip white spaces infront and behind, replace multiple whitespaces (if any)\n",
    "df['Bag_of_words'] = df['Bag_of_words'].str.strip().str.replace('   ', ' ').str.replace('  ', ' ')\n",
    "\n",
    "df = df[['Title','Bag_of_words']]"
   ]
  },
  {
   "cell_type": "code",
   "execution_count": 57,
   "id": "7651444f",
   "metadata": {},
   "outputs": [
    {
     "data": {
      "text/html": [
       "<div>\n",
       "<style scoped>\n",
       "    .dataframe tbody tr th:only-of-type {\n",
       "        vertical-align: middle;\n",
       "    }\n",
       "\n",
       "    .dataframe tbody tr th {\n",
       "        vertical-align: top;\n",
       "    }\n",
       "\n",
       "    .dataframe thead th {\n",
       "        text-align: right;\n",
       "    }\n",
       "</style>\n",
       "<table border=\"1\" class=\"dataframe\">\n",
       "  <thead>\n",
       "    <tr style=\"text-align: right;\">\n",
       "      <th></th>\n",
       "      <th>Title</th>\n",
       "      <th>Bag_of_words</th>\n",
       "    </tr>\n",
       "  </thead>\n",
       "  <tbody>\n",
       "    <tr>\n",
       "      <th>0</th>\n",
       "      <td>The Shawshank Redemption</td>\n",
       "      <td>crime drama frankdarabont timrobbins morganfre...</td>\n",
       "    </tr>\n",
       "    <tr>\n",
       "      <th>1</th>\n",
       "      <td>The Godfather</td>\n",
       "      <td>crime drama francisfordcoppola marlonbrando al...</td>\n",
       "    </tr>\n",
       "    <tr>\n",
       "      <th>2</th>\n",
       "      <td>The Godfather: Part II</td>\n",
       "      <td>crime drama francisfordcoppola alpacino robert...</td>\n",
       "    </tr>\n",
       "    <tr>\n",
       "      <th>3</th>\n",
       "      <td>The Dark Knight</td>\n",
       "      <td>action crime drama christophernolan christianb...</td>\n",
       "    </tr>\n",
       "    <tr>\n",
       "      <th>4</th>\n",
       "      <td>12 Angry Men</td>\n",
       "      <td>crime drama sidneylumet martinbalsam johnfiedl...</td>\n",
       "    </tr>\n",
       "  </tbody>\n",
       "</table>\n",
       "</div>"
      ],
      "text/plain": [
       "                      Title                                       Bag_of_words\n",
       "0  The Shawshank Redemption  crime drama frankdarabont timrobbins morganfre...\n",
       "1             The Godfather  crime drama francisfordcoppola marlonbrando al...\n",
       "2    The Godfather: Part II  crime drama francisfordcoppola alpacino robert...\n",
       "3           The Dark Knight  action crime drama christophernolan christianb...\n",
       "4              12 Angry Men  crime drama sidneylumet martinbalsam johnfiedl..."
      ]
     },
     "execution_count": 57,
     "metadata": {},
     "output_type": "execute_result"
    }
   ],
   "source": [
    "df.head()"
   ]
  },
  {
   "cell_type": "markdown",
   "id": "080d7f27",
   "metadata": {},
   "source": [
    "### Vectorizing BoW and Creating the Similarity Matrix\n",
    "Here, we will convert our BoW into vector representations with the help of much of a popular tool named Count Vectorizer. Count Vectorizer, gifted by our very own Scikit Learn library, converts words into their respective vector forms, on the basis of the frequency count of each word. Hence, the name, Count Vectorizer! Once the count vectorizer has done its job, and we have a matrix of all word counts, we will generate the similarity matrix with the help of cosine similarity.\n",
    "\n",
    "Cosine similarity measures the similarity between two vectors, by the cosine of the angle between them, and based on the value it gets, it decides whether the two vectors are moving in the same direction."
   ]
  },
  {
   "cell_type": "code",
   "execution_count": 58,
   "id": "d853f8e2",
   "metadata": {},
   "outputs": [
    {
     "name": "stdout",
     "output_type": "stream",
     "text": [
      "[[1.         0.28571429 0.28571429 ... 0.13363062 0.13363062 0.14285714]\n",
      " [0.28571429 1.         0.57142857 ... 0.13363062 0.13363062 0.14285714]\n",
      " [0.28571429 0.57142857 1.         ... 0.13363062 0.13363062 0.14285714]\n",
      " ...\n",
      " [0.13363062 0.13363062 0.13363062 ... 1.         0.125      0.13363062]\n",
      " [0.13363062 0.13363062 0.13363062 ... 0.125      1.         0.13363062]\n",
      " [0.14285714 0.14285714 0.14285714 ... 0.13363062 0.13363062 1.        ]]\n"
     ]
    }
   ],
   "source": [
    "#Vectorizing BoW and Creating the Similarity Matrix\n",
    "\n",
    "# to generate the count matrix\n",
    "count = CountVectorizer()\n",
    "count_matrix = count.fit_transform(df['Bag_of_words'])\n",
    "count_matrix\n",
    "\n",
    "cosine_sim = cosine_similarity(count_matrix, count_matrix)\n",
    "print(cosine_sim)"
   ]
  },
  {
   "cell_type": "markdown",
   "id": "d7a115b5",
   "metadata": {},
   "source": [
    "So, we have successfully computed our similarity matrix of 250 rows x 250 columns!"
   ]
  },
  {
   "cell_type": "code",
   "execution_count": 60,
   "id": "e6194901",
   "metadata": {},
   "outputs": [],
   "source": [
    "#  make sure that our Title column is well inclined with the row and column index of the similarity matrix.\n",
    "\n",
    "indices = pd.Series(df['Title'])"
   ]
  },
  {
   "cell_type": "markdown",
   "id": "fa3aadc0",
   "metadata": {},
   "source": [
    "### Training an Testing the Recommendation Engine\n",
    "\n",
    "Steps involved in this method-\n",
    "\n",
    "1. First, it takes in a movie title as user input.\n",
    "\n",
    "2. Matches the input title with the respective index of the similarity matrix\n",
    "\n",
    "3. Extracts the similarity values in the top to bottom or descending fashion\n",
    "\n",
    "4. Extract (N+1) movies and remove the 1st one as it’s the user input itself\n",
    "\n",
    "5. Give the Top N recommendations to the user"
   ]
  },
  {
   "cell_type": "code",
   "execution_count": 66,
   "id": "d15f7f22",
   "metadata": {},
   "outputs": [],
   "source": [
    "# Training and Testing Our Recommendation Engine\n",
    "\n",
    "# this function takes in a movie title as input and returns the top 5 recommended (similar) movies\n",
    "\n",
    "def recommend(title, cosine_sim = cosine_sim):\n",
    "    recommended_movies = []\n",
    "    idx = indices[indices == title].index[0]   # to get the index of the movie title matching the input movie\n",
    "    score_series = pd.Series(cosine_sim[idx]).sort_values(ascending = False)   # similarity scores in descending order\n",
    "    top_5_indices = list(score_series.iloc[1:6].index)   # to get the indices of top 6 most similar movies\n",
    "    # [1:6] to exclude 0 (index 0 is the input movie itself)\n",
    "    \n",
    "    for i in top_5_indices:   # to append the titles of top 10 similar movies to the recommended_movies list\n",
    "        recommended_movies.append(list(df['Title'])[i])\n",
    "        \n",
    "    return recommended_movies\n"
   ]
  },
  {
   "cell_type": "code",
   "execution_count": 67,
   "id": "faa9b711",
   "metadata": {},
   "outputs": [
    {
     "data": {
      "text/plain": [
       "['The Godfather: Part II',\n",
       " 'Scarface',\n",
       " 'Apocalypse Now',\n",
       " 'Heat',\n",
       " 'Dog Day Afternoon']"
      ]
     },
     "execution_count": 67,
     "metadata": {},
     "output_type": "execute_result"
    }
   ],
   "source": [
    "recommend('The Godfather')"
   ]
  },
  {
   "cell_type": "code",
   "execution_count": 68,
   "id": "c87641af",
   "metadata": {},
   "outputs": [
    {
     "data": {
      "text/plain": [
       "['Spider-Man: Homecoming',\n",
       " 'The Terminator',\n",
       " 'Guardians of the Galaxy Vol. 2',\n",
       " 'Terminator 2: Judgment Day',\n",
       " 'Aliens']"
      ]
     },
     "execution_count": 68,
     "metadata": {},
     "output_type": "execute_result"
    }
   ],
   "source": [
    "recommend('The Avengers')"
   ]
  },
  {
   "cell_type": "code",
   "execution_count": 69,
   "id": "4340e93c",
   "metadata": {},
   "outputs": [
    {
     "data": {
      "text/plain": [
       "['Trainspotting',\n",
       " 'A Streetcar Named Desire',\n",
       " 'Paris, Texas',\n",
       " 'The Last Picture Show',\n",
       " 'Room']"
      ]
     },
     "execution_count": 69,
     "metadata": {},
     "output_type": "execute_result"
    }
   ],
   "source": [
    "recommend('Slumdog Millionaire')"
   ]
  },
  {
   "cell_type": "code",
   "execution_count": 70,
   "id": "889ceb54",
   "metadata": {},
   "outputs": [
    {
     "data": {
      "text/plain": [
       "['The Philadelphia Story',\n",
       " 'The Apartment',\n",
       " 'City Lights',\n",
       " 'Forrest Gump',\n",
       " 'Notorious']"
      ]
     },
     "execution_count": 70,
     "metadata": {},
     "output_type": "execute_result"
    }
   ],
   "source": [
    "recommend('His Girl Friday')"
   ]
  },
  {
   "cell_type": "code",
   "execution_count": null,
   "id": "7a1084a7",
   "metadata": {},
   "outputs": [],
   "source": []
  }
 ],
 "metadata": {
  "kernelspec": {
   "display_name": "Python 3",
   "language": "python",
   "name": "python3"
  },
  "language_info": {
   "codemirror_mode": {
    "name": "ipython",
    "version": 3
   },
   "file_extension": ".py",
   "mimetype": "text/x-python",
   "name": "python",
   "nbconvert_exporter": "python",
   "pygments_lexer": "ipython3",
   "version": "3.8.8"
  }
 },
 "nbformat": 4,
 "nbformat_minor": 5
}
